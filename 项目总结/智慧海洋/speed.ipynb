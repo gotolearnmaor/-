{
 "cells": [
  {
   "cell_type": "code",
   "execution_count": null,
   "metadata": {},
   "outputs": [],
   "source": [
    "import tqdm\n",
    "import os\n",
    "import pandas as pd\n",
    "import numpy as np\n",
    "import matplotlib.pyplot as plt"
   ]
  },
  {
   "cell_type": "code",
   "execution_count": null,
   "metadata": {},
   "outputs": [],
   "source": [
    "train = pd.read_csv('train.csv')"
   ]
  },
  {
   "cell_type": "code",
   "execution_count": null,
   "metadata": {},
   "outputs": [],
   "source": [
    "train.head(10)"
   ]
  },
  {
   "cell_type": "code",
   "execution_count": null,
   "metadata": {},
   "outputs": [],
   "source": [
    "def speed_hist(type_name):\n",
    "    #找到相应类型的ID\n",
    "    #ids 作为数组存储相ID\n",
    "    ids = train[train['type']==type_name]['ship'].unique()\n",
    "    \n",
    "    result = []\n",
    "    for x in range(20):\n",
    "        #随机生成渔船ID\n",
    "        temp = ids[np.random.randint(len(ids))]\n",
    "        result.append(temp)\n",
    "    #布尔索引 找出渔船信息\n",
    "    t = train[train['ship'].isin(result)]\n",
    "\n",
    "    f, ax = plt.subplots(10,2, figsize=(8,20))\n",
    "    for index, cur_id in enumerate(result):\n",
    "        cur = t[t['ship']==cur_id]\n",
    "        i = index//2\n",
    "        j = index % 2\n",
    "        ax[i,j].hist(cur['v'])\n",
    "#         if i==0 and j==0:\n",
    "        ax[i,j].set_title(cur_id)"
   ]
  },
  {
   "cell_type": "code",
   "execution_count": null,
   "metadata": {},
   "outputs": [],
   "source": [
    "speed_hist('拖网')\n"
   ]
  },
  {
   "cell_type": "code",
   "execution_count": null,
   "metadata": {},
   "outputs": [],
   "source": [
    "speed_hist(\"围网\")"
   ]
  },
  {
   "cell_type": "code",
   "execution_count": null,
   "metadata": {},
   "outputs": [],
   "source": [
    "speed_hist(\"刺网\")"
   ]
  },
  {
   "cell_type": "code",
   "execution_count": null,
   "metadata": {},
   "outputs": [],
   "source": [
    "res = {}\n",
    "gruppe =['拖网','围网','刺网']\n",
    "for each in gruppe:\n",
    "    \n",
    "    a= train[train['type'] == each]\n",
    "    count = a[\"v\"].value_counts(1)\n",
    "    res[each] = count"
   ]
  },
  {
   "cell_type": "code",
   "execution_count": null,
   "metadata": {},
   "outputs": [],
   "source": [
    "print(res['拖网'])\n",
    "print('--------------------------------------------------------------------------------------')\n",
    "print(res['围网'])\n",
    "print('--------------------------------------------------------------------------------------')\n",
    "res['刺网']"
   ]
  },
  {
   "cell_type": "markdown",
   "metadata": {},
   "source": [
    "统计总体速度，刺网速度小于0.32的占据了总数的百分之70，将0.32设置为一个指标"
   ]
  },
  {
   "cell_type": "code",
   "execution_count": null,
   "metadata": {},
   "outputs": [],
   "source": [
    "pro = pd.read_csv(\"hy_round1_train_20200102/1.csv\")"
   ]
  },
  {
   "cell_type": "code",
   "execution_count": null,
   "metadata": {},
   "outputs": [],
   "source": [
    "n = pro[pro[\"速度\"]< 0.33]"
   ]
  },
  {
   "cell_type": "code",
   "execution_count": null,
   "metadata": {},
   "outputs": [],
   "source": [
    "n"
   ]
  },
  {
   "cell_type": "code",
   "execution_count": null,
   "metadata": {},
   "outputs": [],
   "source": [
    "pro['speed_033'] = len(n)\n",
    "pro.head()"
   ]
  },
  {
   "cell_type": "code",
   "execution_count": null,
   "metadata": {},
   "outputs": [],
   "source": [
    "def degree_hist(type_name):\n",
    "    #找到相应类型的ID\n",
    "    #ids 作为数组存储相ID\n",
    "    ids = train[train['type']==type_name]['ship'].unique()\n",
    "    \n",
    "    result = []\n",
    "    for x in range(20):\n",
    "        #随机生成渔船ID\n",
    "        temp = ids[np.random.randint(len(ids))]\n",
    "        result.append(temp)\n",
    "    #布尔索引 找出渔船信息\n",
    "    t = train[train['ship'].isin(result)]\n",
    "\n",
    "    f, ax = plt.subplots(10,2, figsize=(8,20))\n",
    "    for index, cur_id in enumerate(result):\n",
    "        cur = t[t['ship']==cur_id]\n",
    "        i = index//2\n",
    "        j = index % 2\n",
    "        ax[i,j].hist(cur['g'])\n",
    "#         if i==0 and j==0:\n",
    "        ax[i,j].set_title(cur_id)"
   ]
  },
  {
   "cell_type": "code",
   "execution_count": null,
   "metadata": {},
   "outputs": [],
   "source": [
    "train[train[\"type\"] == \"拖网\"][\"g\"].value_counts(1)"
   ]
  },
  {
   "cell_type": "code",
   "execution_count": null,
   "metadata": {},
   "outputs": [],
   "source": [
    "train[train[\"type\"] == \"刺网\"][\"g\"].value_counts(1)"
   ]
  },
  {
   "cell_type": "code",
   "execution_count": null,
   "metadata": {},
   "outputs": [],
   "source": [
    "train[train[\"type\"] == \"围网\"][\"g\"].value_counts(1)"
   ]
  },
  {
   "cell_type": "code",
   "execution_count": null,
   "metadata": {},
   "outputs": [],
   "source": [
    "degree_hist(\"刺网\")"
   ]
  },
  {
   "cell_type": "code",
   "execution_count": null,
   "metadata": {},
   "outputs": [],
   "source": [
    "degree_hist(\"围网\")"
   ]
  },
  {
   "cell_type": "code",
   "execution_count": null,
   "metadata": {},
   "outputs": [],
   "source": [
    "degree_hist(\"拖网\")"
   ]
  },
  {
   "cell_type": "code",
   "execution_count": 26,
   "metadata": {},
   "outputs": [
    {
     "data": {
      "text/plain": [
       "'拖网'"
      ]
     },
     "execution_count": 26,
     "metadata": {},
     "output_type": "execute_result"
    }
   ],
   "source": [
    "train.loc[100][\"type\"]"
   ]
  },
  {
   "cell_type": "code",
   "execution_count": null,
   "metadata": {},
   "outputs": [],
   "source": []
  }
 ],
 "metadata": {
  "kernelspec": {
   "display_name": "Python 3",
   "language": "python",
   "name": "python3"
  },
  "language_info": {
   "codemirror_mode": {
    "name": "ipython",
    "version": 3
   },
   "file_extension": ".py",
   "mimetype": "text/x-python",
   "name": "python",
   "nbconvert_exporter": "python",
   "pygments_lexer": "ipython3",
   "version": "3.7.4"
  }
 },
 "nbformat": 4,
 "nbformat_minor": 2
}
